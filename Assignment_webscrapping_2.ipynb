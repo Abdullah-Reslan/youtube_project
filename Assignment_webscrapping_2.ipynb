{
 "cells": [
  {
   "cell_type": "code",
   "execution_count": 11,
   "metadata": {},
   "outputs": [],
   "source": [
    "from selenium import webdriver\n",
    "from selenium.webdriver.common.by import By\n",
    "from selenium.webdriver.chrome.service import Service\n",
    "from selenium.webdriver.chrome.options import Options\n",
    "import time\n",
    "import csv\n",
    "\n",
    "options = Options()\n",
    "options.add_argument(\"window-size=1920x1080\")\n",
    "\n",
    "#Path and url\n",
    "url = \"https://www.youtube.com/@PW-Foundation/videos\"\n",
    "path = r\"C:\\webdrivers\\chromedriver.exe\"\n",
    "\n",
    "try:\n",
    "\n",
    "    #initialize Chrome driver\n",
    "    options = webdriver.ChromeOptions()\n",
    "    options.add_experimental_option(\"detach\" , True)\n",
    "    driver = webdriver.Chrome(options=options, service=Service(path))\n",
    "    driver.get(url)\n",
    "    driver.maximize_window()\n",
    "\n",
    "    #wait to load completely\n",
    "    time.sleep(5)\n",
    "\n",
    "\n",
    "\n",
    "    #find all video elements\n",
    "    video_elements = driver.find_elements(By.CSS_SELECTOR, \"#contents\")\n",
    "\n",
    "    #creat a csv file\n",
    "    with open(\"youtube_videos.csv\", \"w\", newline=\"\", encoding=\"utf-8\") as csvfile:\n",
    "        writer = csv.writer(csvfile)\n",
    "        writer.writerow([\"Title\", \"URL\", \"Thumbnail URL\", \"Views\", \"Upload Date\"])\n",
    "\n",
    "        #Extract data from video elements\n",
    "        for video in video_elements:\n",
    "            title_element=video.find_element(By.CSS_SELECTOR , \"#video-title-link\")\n",
    "            link = title_element.get_attribute(\"href\")\n",
    "            thumbnails_element= video.find_element(By.CSS_SELECTOR, \"#thumbnail > yt-image > img\")\n",
    "            thumbnails_url  =thumbnails_element.get_attribute(\"src\")\n",
    "            title = video.find_element(By.CSS_SELECTOR, \"#video-title-link\").text\n",
    "            views_element = video.find_element(By.CSS_SELECTOR, \"#metadata-line > span:nth-child(3)\")\n",
    "            views = views_element.text\n",
    "            upload_date_element = video.find_element(By.CSS_SELECTOR, \"#metadata-line > span:nth-child(4)\")\n",
    "            upload_date = upload_date_element.text\n",
    "            \n",
    "            writer.writerow([title, link, thumbnails_url, views, upload_date])\n",
    "            \n",
    "    #Close the browser\n",
    "    driver.quit()\n",
    "\n",
    "except Exception as e:\n",
    "    print(e)\n",
    "    \n",
    "    "
   ]
  },
  {
   "cell_type": "code",
   "execution_count": null,
   "metadata": {},
   "outputs": [],
   "source": []
  }
 ],
 "metadata": {
  "kernelspec": {
   "display_name": "Python 3",
   "language": "python",
   "name": "python3"
  },
  "language_info": {
   "codemirror_mode": {
    "name": "ipython",
    "version": 3
   },
   "file_extension": ".py",
   "mimetype": "text/x-python",
   "name": "python",
   "nbconvert_exporter": "python",
   "pygments_lexer": "ipython3",
   "version": "3.12.1"
  }
 },
 "nbformat": 4,
 "nbformat_minor": 2
}
